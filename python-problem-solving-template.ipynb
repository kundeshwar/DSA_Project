{
 "cells": [
  {
   "cell_type": "markdown",
   "id": "3d9b5034",
   "metadata": {},
   "source": [
    "# Problem Solving Template (change the title)\n",
    "\n",
    "_To learn how to use this template, check out the course [\"Data Structures and Algorithms in Python\"](https://jovian.ai/learn/data-structures-and-algorithms-in-python)._\n",
    "\n",
    "\n"
   ]
  },
  {
   "cell_type": "markdown",
   "id": "145e5409",
   "metadata": {},
   "source": [
    "## How to run the code and save your work\n",
    "\n",
    "The recommended way to run this notebook is to click the \"Run\" button at the top of this page, and select \"Run on Binder\". This will run the notebook on [mybinder.org](https://mybinder.org), a free online service for running Jupyter notebooks. \n",
    "\n",
    "This tutorial is an executable [Jupyter notebook](https://jupyter.org). You can _run_ this tutorial and experiment with the code examples in a couple of ways: *using free online resources* (recommended) or *on your computer*.\n",
    "\n",
    "#### Option 1: Running using free online resources (1-click, recommended)\n",
    "\n",
    "The easiest way to start executing the code is to click the **Run** button at the top of this page and select **Run on Binder**. You can also select \"Run on Colab\" or \"Run on Kaggle\", but you'll need to create an account on [Google Colab](https://colab.research.google.com) or [Kaggle](https://kaggle.com) to use these platforms.\n",
    "\n",
    "\n",
    "#### Option 2: Running on your computer locally\n",
    "\n",
    "To run the code on your computer locally, you'll need to set up [Python](https://www.python.org), download the notebook and install the required libraries. We recommend using the [Conda](https://docs.conda.io/projects/conda/en/latest/user-guide/install/) distribution of Python. Click the **Run** button at the top of this page, select the **Run Locally** option, and follow the instructions.\n",
    "\n",
    "#### Saving your work\n",
    "\n",
    "Before staring the assignment, let's save a snapshot of the assignment to your [Jovian](https://jovian.ai) profile, so that you can access it later, and continue your work."
   ]
  },
  {
   "cell_type": "code",
   "execution_count": 1,
   "id": "9361b084",
   "metadata": {},
   "outputs": [],
   "source": [
    "project_name = \"Sum Of Three\" # give it an appropriate name"
   ]
  },
  {
   "cell_type": "code",
   "execution_count": 2,
   "id": "49e868ec",
   "metadata": {},
   "outputs": [],
   "source": [
    "!pip install jovian --upgrade --quiet"
   ]
  },
  {
   "cell_type": "code",
   "execution_count": 3,
   "id": "49cb9218",
   "metadata": {},
   "outputs": [],
   "source": [
    "import jovian"
   ]
  },
  {
   "cell_type": "code",
   "execution_count": 4,
   "id": "1c6c66bd",
   "metadata": {},
   "outputs": [
    {
     "data": {
      "application/javascript": [
       "window.require && require([\"base/js/namespace\"],function(Jupyter){Jupyter.notebook.save_checkpoint()})"
      ],
      "text/plain": [
       "<IPython.core.display.Javascript object>"
      ]
     },
     "metadata": {},
     "output_type": "display_data"
    },
    {
     "name": "stdout",
     "output_type": "stream",
     "text": [
      "[jovian] Updating notebook \"kundeshwar15000/sum-of-three\" on https://jovian.com\u001b[0m\n",
      "[jovian] Committed successfully! https://jovian.com/kundeshwar15000/sum-of-three\u001b[0m\n"
     ]
    },
    {
     "data": {
      "text/plain": [
       "'https://jovian.com/kundeshwar15000/sum-of-three'"
      ]
     },
     "execution_count": 4,
     "metadata": {},
     "output_type": "execute_result"
    }
   ],
   "source": [
    "jovian.commit(project=project_name)"
   ]
  },
  {
   "cell_type": "markdown",
   "id": "5e3997e0",
   "metadata": {},
   "source": [
    "## Problem Statement\n",
    "\n",
    "\n",
    "> Given an integer array nums, return all the triplets [nums[i], nums[j], nums[k]] such that i != j, i != k, and j != k, and nums[i] + nums[j] + nums[k] == 0.\n",
    "\n",
    "Notice that the solution set must not contain duplicate triplets.\n",
    "\n",
    "\n",
    "Source: https://leetcode.com/problems/3sum/"
   ]
  },
  {
   "cell_type": "markdown",
   "id": "1e677d0e",
   "metadata": {},
   "source": [
    "## The Method\n",
    "\n",
    "Here's the systematic strategy we'll apply for solving problems:\n",
    "\n",
    "1. State the problem clearly. Identify the input & output formats.\n",
    "2. Come up with some example inputs & outputs. Try to cover all edge cases.\n",
    "3. Come up with a correct solution for the problem. State it in plain English.\n",
    "4. Implement the solution and test it using example inputs. Fix bugs, if any.\n",
    "5. Analyze the algorithm's complexity and identify inefficiencies, if any.\n",
    "6. Apply the right technique to overcome the inefficiency. Repeat steps 3 to 6.\n",
    "\n",
    "This approach is explained in detail in [Lesson 1](https://jovian.ai/learn/data-structures-and-algorithms-in-python/lesson/lesson-1-binary-search-linked-lists-and-complexity) of the course. Let's apply this approach step-by-step."
   ]
  },
  {
   "cell_type": "markdown",
   "id": "9115582b",
   "metadata": {},
   "source": [
    "## Solution\n",
    "\n",
    "\n",
    "### 1. State the problem clearly. Identify the input & output formats.\n",
    "\n",
    "While this problem is stated clearly enough, it's always useful to try and express in your own words, in a way that makes it most clear for you. \n",
    "\n",
    "\n",
    "**Problem**\n",
    "\n",
    "> In the given Problem we have to find triplets such a way that the sum of element present inside the array is equal to zero. As a input they will give a array which contain numbers and also we can't repeat numbers.\n",
    "\n",
    "<br/>\n",
    "\n",
    "\n",
    "**Input**\n",
    "\n",
    "1. They will give a array which contain numbers only like nums=[-1, 0, 1, 2, -1, -4]\n",
    "\n",
    "(add more if required)\n",
    "\n",
    "\n",
    "**Output**\n",
    "\n",
    "1. we have to find triplet contain array like this [[-1, -1, 2], [-1, 0, 1]]\n",
    "\n",
    "\n",
    "(add more if required)\n",
    "\n",
    "<br/>\n",
    "\n",
    "Based on the above, we can now create a signature of our function:"
   ]
  },
  {
   "cell_type": "code",
   "execution_count": 5,
   "id": "bf2894ba",
   "metadata": {},
   "outputs": [],
   "source": [
    "# Create a function signature here. The body of the function can contain a single statement: pass\n",
    "def three_sum(nums):\n",
    "    pass"
   ]
  },
  {
   "cell_type": "markdown",
   "id": "626556d4",
   "metadata": {},
   "source": [
    "Save and upload your work before continuing."
   ]
  },
  {
   "cell_type": "code",
   "execution_count": 6,
   "id": "52c1a33d",
   "metadata": {},
   "outputs": [],
   "source": [
    "import jovian"
   ]
  },
  {
   "cell_type": "code",
   "execution_count": 7,
   "id": "3856c474",
   "metadata": {},
   "outputs": [
    {
     "data": {
      "application/javascript": [
       "window.require && require([\"base/js/namespace\"],function(Jupyter){Jupyter.notebook.save_checkpoint()})"
      ],
      "text/plain": [
       "<IPython.core.display.Javascript object>"
      ]
     },
     "metadata": {},
     "output_type": "display_data"
    },
    {
     "name": "stdout",
     "output_type": "stream",
     "text": [
      "[jovian] Updating notebook \"kundeshwar15000/sum-of-three\" on https://jovian.com\u001b[0m\n",
      "[jovian] Committed successfully! https://jovian.com/kundeshwar15000/sum-of-three\u001b[0m\n"
     ]
    },
    {
     "data": {
      "text/plain": [
       "'https://jovian.com/kundeshwar15000/sum-of-three'"
      ]
     },
     "execution_count": 7,
     "metadata": {},
     "output_type": "execute_result"
    }
   ],
   "source": [
    "jovian.commit()"
   ]
  },
  {
   "cell_type": "markdown",
   "id": "0a495545",
   "metadata": {},
   "source": [
    "### 2. Come up with some example inputs & outputs. Try to cover all edge cases.\n",
    "\n",
    "Our function should be able to handle any set of valid inputs we pass into it. Here's a list of some possible variations we might encounter:\n",
    "\n",
    "1. nums contains only three elements \n",
    "2. nums contains more than three element \n",
    "3. nums contains all three zeros only\n",
    "4. nums contains more than three zeros \n",
    "5. nums contains more than 10 numbers \n",
    "6. nums contains such element there sum should be not equal to zero\n",
    "7. nums contains some similar elements \n",
    "\n",
    "\n",
    "\n",
    "We'll express our test cases as dictionaries, to test them easily. Each dictionary will contain 2 keys: `input` (a dictionary itself containing one key for each argument to the function and `output` (the expected result from the function). "
   ]
  },
  {
   "cell_type": "code",
   "execution_count": 8,
   "id": "c0d04884",
   "metadata": {},
   "outputs": [],
   "source": [
    "test = {\n",
    "    'input': {\n",
    "        \"nums\":[0, 1, 2]\n",
    "    },\n",
    "    'output': []\n",
    "}"
   ]
  },
  {
   "cell_type": "markdown",
   "id": "f9c0fc7e",
   "metadata": {},
   "source": [
    "Create one test case for each of the scenarios listed above. We'll store our test cases in an array called `tests`."
   ]
  },
  {
   "cell_type": "code",
   "execution_count": 9,
   "id": "a9293a3d",
   "metadata": {},
   "outputs": [],
   "source": [
    "tests = []"
   ]
  },
  {
   "cell_type": "code",
   "execution_count": 10,
   "id": "47556ad9",
   "metadata": {},
   "outputs": [],
   "source": [
    "tests.append(test)"
   ]
  },
  {
   "cell_type": "code",
   "execution_count": 11,
   "id": "b6f94629",
   "metadata": {},
   "outputs": [],
   "source": [
    "test1 = {\n",
    "    'input': {\n",
    "        \"nums\":[0, 0, 0]\n",
    "    },\n",
    "    'output': [[0, 0, 0]]\n",
    "}"
   ]
  },
  {
   "cell_type": "code",
   "execution_count": 12,
   "id": "c81c8b11",
   "metadata": {},
   "outputs": [],
   "source": [
    "test2 = {\n",
    "    'input': {\n",
    "        \"nums\":[-1, 0, 1, 2, -1, -4]\n",
    "    },\n",
    "    'output':[[-1, -1, 2], [-1, 0, 1]]\n",
    "\n",
    "}"
   ]
  },
  {
   "cell_type": "code",
   "execution_count": 13,
   "id": "aaf8b0f7",
   "metadata": {},
   "outputs": [],
   "source": [
    "test3 = {\n",
    "    'input': {\n",
    "        \"nums\":[1, 3, -1, -2, 0, 0, 3, -4]\n",
    "    },\n",
    "    'output':[[-4, 1, 3], [-2, -1, 3], [-1, 0, 1]]\n",
    "}"
   ]
  },
  {
   "cell_type": "code",
   "execution_count": 14,
   "id": "847e853c",
   "metadata": {},
   "outputs": [],
   "source": [
    "test4 = {\n",
    "    'input': {\n",
    "        \"nums\":[-1, -1, -2, 3, 4, 6, -2]\n",
    "    },\n",
    "    'output': [[-2, -2, 4], [-2, -1, 3]]\n",
    "}"
   ]
  },
  {
   "cell_type": "code",
   "execution_count": 15,
   "id": "038bcd4f",
   "metadata": {},
   "outputs": [],
   "source": [
    "test5 = {\n",
    "    'input': {\n",
    "        \"nums\":[2, 6, 5, 6, 2, -5 ,-6 , -2, -1 ]\n",
    "    },\n",
    "    'output': [[-5, -1, 6]]\n",
    "}"
   ]
  },
  {
   "cell_type": "code",
   "execution_count": 16,
   "id": "190ad1af",
   "metadata": {},
   "outputs": [],
   "source": [
    "# add more test cases"
   ]
  },
  {
   "cell_type": "code",
   "execution_count": 17,
   "id": "b916e994",
   "metadata": {},
   "outputs": [],
   "source": [
    "test6 = {\n",
    "    'input': {\n",
    "        \"nums\":[0, 1, 2, 3, 4, 5, 6, -1, -2, -3, -4, -5, -6, 10, 5, -8, -9 ,10, 12, -3, -5]\n",
    "    },\n",
    "    'output': [[-9, -3, 12], [-9, -1, 10], [-9, 3, 6], [-9, 4, 5], [-8, -4, 12], [-8, -2, 10], [-8, 2, 6], [-8, 3, 5], [-6, -4, 10], [-6, 0, 6], [-6, 1, 5], [-6, 2, 4], [-5, -5, 10], [-5, -1, 6], [-5, 0, 5], [-5, 1, 4], [-5, 2, 3], [-4, -2, 6], [-4, -1, 5], [-4, 0, 4], [-4, 1, 3], [-3, -3, 6], [-3, -2, 5], [-3, -1, 4], [-3, 0, 3], [-3, 1, 2], [-2, -1, 3], [-2, 0, 2], [-1, 0, 1]]}"
   ]
  },
  {
   "cell_type": "code",
   "execution_count": 18,
   "id": "c2a3e87b",
   "metadata": {},
   "outputs": [],
   "source": [
    "tests = [test1, test2, test3, test4, test5, test6]"
   ]
  },
  {
   "cell_type": "markdown",
   "id": "cfbfb5ff",
   "metadata": {},
   "source": [
    "### 3. Come up with a correct solution for the problem. State it in plain English.\n",
    "\n",
    "Our first goal should always be to come up with a _correct_ solution to the problem, which may not necessarily be the most _efficient_ solution. Come with a correct solution and explain it in simple words below:\n",
    "\n",
    "1. first use try to think about problem in that we have to find three elements in the given array which sum is equal to zero\n",
    "2. we are using first loop to get first time each element from the list \n",
    "3. Then now we are going through  the array second time by using second for loop\n",
    "4. Going through the list by third time \n",
    "5. use some conditions by using if and also use some condition for repetition \n",
    "\n",
    "\n",
    "\n",
    "\n",
    "Let's save and upload our work before continuing.\n",
    "\n",
    "\n"
   ]
  },
  {
   "cell_type": "code",
   "execution_count": 19,
   "id": "be294735",
   "metadata": {},
   "outputs": [
    {
     "data": {
      "application/javascript": [
       "window.require && require([\"base/js/namespace\"],function(Jupyter){Jupyter.notebook.save_checkpoint()})"
      ],
      "text/plain": [
       "<IPython.core.display.Javascript object>"
      ]
     },
     "metadata": {},
     "output_type": "display_data"
    },
    {
     "name": "stdout",
     "output_type": "stream",
     "text": [
      "[jovian] Updating notebook \"kundeshwar15000/sum-of-three\" on https://jovian.com\u001b[0m\n",
      "[jovian] Committed successfully! https://jovian.com/kundeshwar15000/sum-of-three\u001b[0m\n"
     ]
    },
    {
     "data": {
      "text/plain": [
       "'https://jovian.com/kundeshwar15000/sum-of-three'"
      ]
     },
     "execution_count": 19,
     "metadata": {},
     "output_type": "execute_result"
    }
   ],
   "source": [
    "jovian.commit()"
   ]
  },
  {
   "cell_type": "markdown",
   "id": "179111a1",
   "metadata": {},
   "source": [
    "###  4. Implement the solution and test it using example inputs. Fix bugs, if any."
   ]
  },
  {
   "cell_type": "code",
   "execution_count": 20,
   "id": "ccf53da9",
   "metadata": {},
   "outputs": [],
   "source": [
    "def three_sum(nums):\n",
    "        nums.sort()\n",
    "        result = []\n",
    "        for i in range(len(nums)-2):\n",
    "                if i> 0 and nums[i] == nums[i-1]:\n",
    "                    continue\n",
    "                l = i+1\n",
    "                r = len(nums)-1\n",
    "                while(l<r):\n",
    "                    sum = nums[i] + nums[l] + nums[r]\n",
    "                    if sum<0:\n",
    "                        l+=1\n",
    "                    elif sum >0:\n",
    "                        r-=1\n",
    "                    else:\n",
    "                        result.append([nums[i],nums[l],nums[r]])\n",
    "                        while l<len(nums)-1 and nums[l] == nums[l + 1] : l += 1\n",
    "                        while r>0 and nums[r] == nums[r - 1]: r -= 1\n",
    "                        l+=1\n",
    "                        r-=1\n",
    "        return result"
   ]
  },
  {
   "cell_type": "code",
   "execution_count": 21,
   "id": "fa427970",
   "metadata": {},
   "outputs": [
    {
     "data": {
      "text/plain": [
       "[[0, 0, 0]]"
      ]
     },
     "execution_count": 21,
     "metadata": {},
     "output_type": "execute_result"
    }
   ],
   "source": [
    "three_sum(test1[\"input\"][\"nums\"])"
   ]
  },
  {
   "cell_type": "markdown",
   "id": "4e22f77c",
   "metadata": {},
   "source": [
    "We can test the function by passing the input to it directly or by using the `evaluate_test_case` function from `jovian`."
   ]
  },
  {
   "cell_type": "code",
   "execution_count": 22,
   "id": "2dd1e83e",
   "metadata": {},
   "outputs": [],
   "source": [
    "from jovian.pythondsa import evaluate_test_case"
   ]
  },
  {
   "cell_type": "code",
   "execution_count": 23,
   "id": "c03511c3",
   "metadata": {},
   "outputs": [
    {
     "name": "stdout",
     "output_type": "stream",
     "text": [
      "\n",
      "Input:\n",
      "{'nums': [0, 0, 0]}\n",
      "\n",
      "Expected Output:\n",
      "[[0, 0, 0]]\n",
      "\n",
      "\n",
      "Actual Output:\n",
      "[[0, 0, 0]]\n",
      "\n",
      "Execution Time:\n",
      "0.008 ms\n",
      "\n",
      "Test Result:\n",
      "\u001b[92mPASSED\u001b[0m\n",
      "\n"
     ]
    },
    {
     "data": {
      "text/plain": [
       "([[0, 0, 0]], True, 0.008)"
      ]
     },
     "execution_count": 23,
     "metadata": {},
     "output_type": "execute_result"
    }
   ],
   "source": [
    "evaluate_test_case(three_sum, test1)"
   ]
  },
  {
   "cell_type": "markdown",
   "id": "d397a45a",
   "metadata": {},
   "source": [
    "Evaluate your function against all the test cases together using the `evaluate_test_cases` (plural) function from `jovian`."
   ]
  },
  {
   "cell_type": "code",
   "execution_count": 24,
   "id": "8d56b300",
   "metadata": {},
   "outputs": [],
   "source": [
    "from jovian.pythondsa import evaluate_test_cases"
   ]
  },
  {
   "cell_type": "code",
   "execution_count": 25,
   "id": "a3cea780",
   "metadata": {},
   "outputs": [
    {
     "name": "stdout",
     "output_type": "stream",
     "text": [
      "\n",
      "\u001b[1mTEST CASE #0\u001b[0m\n",
      "\n",
      "Input:\n",
      "{'nums': [0, 0, 0]}\n",
      "\n",
      "Expected Output:\n",
      "[[0, 0, 0]]\n",
      "\n",
      "\n",
      "Actual Output:\n",
      "[[0, 0, 0]]\n",
      "\n",
      "Execution Time:\n",
      "0.007 ms\n",
      "\n",
      "Test Result:\n",
      "\u001b[92mPASSED\u001b[0m\n",
      "\n",
      "\n",
      "\u001b[1mTEST CASE #1\u001b[0m\n",
      "\n",
      "Input:\n",
      "{'nums': [-4, -1, -1, 0, 1, 2]}\n",
      "\n",
      "Expected Output:\n",
      "[[-1, -1, 2], [-1, 0, 1]]\n",
      "\n",
      "\n",
      "Actual Output:\n",
      "[[-1, -1, 2], [-1, 0, 1]]\n",
      "\n",
      "Execution Time:\n",
      "0.009 ms\n",
      "\n",
      "Test Result:\n",
      "\u001b[92mPASSED\u001b[0m\n",
      "\n",
      "\n",
      "\u001b[1mTEST CASE #2\u001b[0m\n",
      "\n",
      "Input:\n",
      "{'nums': [-4, -2, -1, 0, 0, 1, 3, 3]}\n",
      "\n",
      "Expected Output:\n",
      "[[-4, 1, 3], [-2, -1, 3], [-1, 0, 1]]\n",
      "\n",
      "\n",
      "Actual Output:\n",
      "[[-4, 1, 3], [-2, -1, 3], [-1, 0, 1]]\n",
      "\n",
      "Execution Time:\n",
      "0.014 ms\n",
      "\n",
      "Test Result:\n",
      "\u001b[92mPASSED\u001b[0m\n",
      "\n",
      "\n",
      "\u001b[1mTEST CASE #3\u001b[0m\n",
      "\n",
      "Input:\n",
      "{'nums': [-2, -2, -1, -1, 3, 4, 6]}\n",
      "\n",
      "Expected Output:\n",
      "[[-2, -2, 4], [-2, -1, 3]]\n",
      "\n",
      "\n",
      "Actual Output:\n",
      "[[-2, -2, 4], [-2, -1, 3]]\n",
      "\n",
      "Execution Time:\n",
      "0.008 ms\n",
      "\n",
      "Test Result:\n",
      "\u001b[92mPASSED\u001b[0m\n",
      "\n",
      "\n",
      "\u001b[1mTEST CASE #4\u001b[0m\n",
      "\n",
      "Input:\n",
      "{'nums': [-6, -5, -2, -1, 2, 2, 5, 6, 6]}\n",
      "\n",
      "Expected Output:\n",
      "[[-5, -1, 6]]\n",
      "\n",
      "\n",
      "Actual Output:\n",
      "[[-5, -1, 6]]\n",
      "\n",
      "Execution Time:\n",
      "0.014 ms\n",
      "\n",
      "Test Result:\n",
      "\u001b[92mPASSED\u001b[0m\n",
      "\n",
      "\n",
      "\u001b[1mTEST CASE #5\u001b[0m\n",
      "\n",
      "Input:\n",
      "{'nums': [-9, -8, -6, -5, -5, -4, -3, -3, -2, -1, 0, 1, 2, 3, 4, 5, 5, 6, 10, 10, 12]}\n",
      "\n",
      "Expected Output:\n",
      "[[-9, -3, 12], [-9, -1, 10], [-9, 3, 6], [-9, 4, 5], [-8, -4, 12], [-8, -2, 10], [-8, 2, 6], [-8, 3,...\n",
      "\n",
      "\n",
      "Actual Output:\n",
      "[[-9, -3, 12], [-9, -1, 10], [-9, 3, 6], [-9, 4, 5], [-8, -4, 12], [-8, -2, 10], [-8, 2, 6], [-8, 3,...\n",
      "\n",
      "Execution Time:\n",
      "0.104 ms\n",
      "\n",
      "Test Result:\n",
      "\u001b[92mPASSED\u001b[0m\n",
      "\n",
      "\n",
      "\u001b[1mSUMMARY\u001b[0m\n",
      "\n",
      "TOTAL: 6, \u001b[92mPASSED\u001b[0m: 6, \u001b[91mFAILED\u001b[0m: 0\n"
     ]
    },
    {
     "data": {
      "text/plain": [
       "[([[0, 0, 0]], True, 0.007),\n",
       " ([[-1, -1, 2], [-1, 0, 1]], True, 0.009),\n",
       " ([[-4, 1, 3], [-2, -1, 3], [-1, 0, 1]], True, 0.014),\n",
       " ([[-2, -2, 4], [-2, -1, 3]], True, 0.008),\n",
       " ([[-5, -1, 6]], True, 0.014),\n",
       " ([[-9, -3, 12],\n",
       "   [-9, -1, 10],\n",
       "   [-9, 3, 6],\n",
       "   [-9, 4, 5],\n",
       "   [-8, -4, 12],\n",
       "   [-8, -2, 10],\n",
       "   [-8, 2, 6],\n",
       "   [-8, 3, 5],\n",
       "   [-6, -4, 10],\n",
       "   [-6, 0, 6],\n",
       "   [-6, 1, 5],\n",
       "   [-6, 2, 4],\n",
       "   [-5, -5, 10],\n",
       "   [-5, -1, 6],\n",
       "   [-5, 0, 5],\n",
       "   [-5, 1, 4],\n",
       "   [-5, 2, 3],\n",
       "   [-4, -2, 6],\n",
       "   [-4, -1, 5],\n",
       "   [-4, 0, 4],\n",
       "   [-4, 1, 3],\n",
       "   [-3, -3, 6],\n",
       "   [-3, -2, 5],\n",
       "   [-3, -1, 4],\n",
       "   [-3, 0, 3],\n",
       "   [-3, 1, 2],\n",
       "   [-2, -1, 3],\n",
       "   [-2, 0, 2],\n",
       "   [-1, 0, 1]],\n",
       "  True,\n",
       "  0.104)]"
      ]
     },
     "execution_count": 25,
     "metadata": {},
     "output_type": "execute_result"
    }
   ],
   "source": [
    "evaluate_test_cases(three_sum, tests)"
   ]
  },
  {
   "cell_type": "markdown",
   "id": "1da066c3",
   "metadata": {},
   "source": [
    "Verify that all the test cases were evaluated. We expect them all to fail, since we haven't implemented the function yet.\n",
    "\n",
    "Let's save our work before continuing."
   ]
  },
  {
   "cell_type": "code",
   "execution_count": 26,
   "id": "4da6a6cf",
   "metadata": {},
   "outputs": [
    {
     "data": {
      "application/javascript": [
       "window.require && require([\"base/js/namespace\"],function(Jupyter){Jupyter.notebook.save_checkpoint()})"
      ],
      "text/plain": [
       "<IPython.core.display.Javascript object>"
      ]
     },
     "metadata": {},
     "output_type": "display_data"
    },
    {
     "name": "stdout",
     "output_type": "stream",
     "text": [
      "[jovian] Updating notebook \"kundeshwar15000/sum-of-three\" on https://jovian.com\u001b[0m\n",
      "[jovian] Committed successfully! https://jovian.com/kundeshwar15000/sum-of-three\u001b[0m\n"
     ]
    },
    {
     "data": {
      "text/plain": [
       "'https://jovian.com/kundeshwar15000/sum-of-three'"
      ]
     },
     "execution_count": 26,
     "metadata": {},
     "output_type": "execute_result"
    }
   ],
   "source": [
    "jovian.commit()"
   ]
  },
  {
   "cell_type": "code",
   "execution_count": null,
   "id": "d1e3887d",
   "metadata": {},
   "outputs": [],
   "source": []
  },
  {
   "cell_type": "markdown",
   "id": "8f5a4333",
   "metadata": {},
   "source": [
    "### 5. Analyze the algorithm's complexity and identify inefficiencies, if any."
   ]
  },
  {
   "cell_type": "markdown",
   "id": "a57aed9f",
   "metadata": {},
   "source": [
    "#### The algorithm uses three nested loops, each iterating over the length of the input list nums. This results in a time complexity of O(n^3), where n is the length of the input list."
   ]
  },
  {
   "cell_type": "code",
   "execution_count": 27,
   "id": "d8663a62",
   "metadata": {},
   "outputs": [],
   "source": [
    "Three_sum_time_complexity = 'O(n^2)'"
   ]
  },
  {
   "cell_type": "code",
   "execution_count": 28,
   "id": "d0384bf8",
   "metadata": {},
   "outputs": [],
   "source": [
    "Three_sum_space_complexity = 'O(1)'"
   ]
  },
  {
   "cell_type": "markdown",
   "id": "cd8dc3c9",
   "metadata": {},
   "source": [
    "1. The nested loops result in redundant calculations and comparisons, as each combination of three elements is considered. This leads to a significant increase in the time complexity.\n",
    "2. The duplicate check using sorting and searching in a adds an additional overhead, further increasing the time complexity.\n",
    "3. Storing the triplets in a list and checking for duplicates by comparing entire lists is not efficient. A more efficient approach would involve using a set or dictionary to store unique triplets, allowing for constant-time duplicate checks."
   ]
  },
  {
   "cell_type": "code",
   "execution_count": 29,
   "id": "9998ca1b",
   "metadata": {},
   "outputs": [
    {
     "data": {
      "application/javascript": [
       "window.require && require([\"base/js/namespace\"],function(Jupyter){Jupyter.notebook.save_checkpoint()})"
      ],
      "text/plain": [
       "<IPython.core.display.Javascript object>"
      ]
     },
     "metadata": {},
     "output_type": "display_data"
    },
    {
     "name": "stdout",
     "output_type": "stream",
     "text": [
      "[jovian] Updating notebook \"kundeshwar15000/sum-of-three\" on https://jovian.com\u001b[0m\n",
      "[jovian] Committed successfully! https://jovian.com/kundeshwar15000/sum-of-three\u001b[0m\n"
     ]
    },
    {
     "data": {
      "text/plain": [
       "'https://jovian.com/kundeshwar15000/sum-of-three'"
      ]
     },
     "execution_count": 29,
     "metadata": {},
     "output_type": "execute_result"
    }
   ],
   "source": [
    "jovian.commit()"
   ]
  },
  {
   "cell_type": "markdown",
   "id": "3c50e8bc",
   "metadata": {},
   "source": [
    "### 6. Apply the right technique to overcome the inefficiency. Repeat steps 3 to 6."
   ]
  },
  {
   "cell_type": "markdown",
   "id": "88279ec7",
   "metadata": {},
   "source": [
    "The provided code is an optimized implementation of the three-sum problem using the two-pointer technique. It sorts the input list, nums, and then uses two pointers, j and k, to find the triplet with a sum of zero.\n",
    "\n",
    "Here's a breakdown of the algorithm:\n",
    "\n",
    "1. The input list, nums, is sorted in ascending order using the sort() method. Sorting the list allows us to use the two-pointer technique efficiently.\n",
    "\n",
    "2. A list l is initialized to store the unique triplets that sum up to zero.\n",
    "\n",
    "3. The algorithm iterates over each element of the sorted nums list using the index i. For each i:\n",
    "\n",
    "- If i is greater than 0 and the current element, nums[i], is equal to the previous element, nums[i-1], it means that we have already considered this element, and duplicate triplets will be generated. Hence, the algorithm skips to the next iteration using the continue statement.\n",
    "- Otherwise, the pointers j and k are initialized. j starts at i+1, representing the element after nums[i], and k starts at the end of the list.\n",
    "<br>\n",
    "4. A while loop is used to find the triplets with a sum of zero. While j is less than k:\n",
    "\n",
    "- The sum s is calculated as nums[i] + nums[j] + nums[k].\n",
    "- If s is greater than zero, it means that the value at k is too large. Therefore, k is decremented to consider a smaller value.\n",
    "- If s is less than zero, it means that the value at j is too small. Hence, j is incremented to consider a larger value.\n",
    "- If s is equal to zero, it means that we have found a triplet that sums up to zero. This triplet is appended to the l list.<br> \n",
    "Additionally, j is incremented to avoid duplicate triplets with the same nums[i] and nums[k]. The while loop is used to skip any other duplicate elements by incrementing j until nums[j-1] is no longer equal to nums[j] or until j is no longer less than k.\n",
    "Once all the elements have been considered, the algorithm returns the list l containing the unique triplets that sum up to zero.\n",
    "\n",
    "\n",
    "\n",
    "\n",
    "\n"
   ]
  },
  {
   "cell_type": "code",
   "execution_count": 30,
   "id": "ca427c8a",
   "metadata": {},
   "outputs": [
    {
     "data": {
      "application/javascript": [
       "window.require && require([\"base/js/namespace\"],function(Jupyter){Jupyter.notebook.save_checkpoint()})"
      ],
      "text/plain": [
       "<IPython.core.display.Javascript object>"
      ]
     },
     "metadata": {},
     "output_type": "display_data"
    },
    {
     "name": "stdout",
     "output_type": "stream",
     "text": [
      "[jovian] Updating notebook \"kundeshwar15000/sum-of-three\" on https://jovian.com\u001b[0m\n",
      "[jovian] Committed successfully! https://jovian.com/kundeshwar15000/sum-of-three\u001b[0m\n"
     ]
    },
    {
     "data": {
      "text/plain": [
       "'https://jovian.com/kundeshwar15000/sum-of-three'"
      ]
     },
     "execution_count": 30,
     "metadata": {},
     "output_type": "execute_result"
    }
   ],
   "source": [
    "jovian.commit()"
   ]
  },
  {
   "cell_type": "markdown",
   "id": "90459192",
   "metadata": {},
   "source": [
    "### 7. Come up with a correct solution for the problem. State it in plain English.\n",
    "\n",
    "Come with the optimized correct solution and explain it in simple words below:\n",
    "\n",
    "1. sorting cause we need to avoid duplicates, with this duplicates will be near to each other\n",
    "2. loop will help to fix the one number i.e, i and skipping if we found the duplicate of i\n",
    "3. NOW FOLLOWING THE RULE OF TWO POINTERS AFTER FIXING THE ONE VALUE (i) and taking j pointer larger than i (as said in ques), taking k pointer from last \n",
    "4. if sum s is greater than 0(target) means the larger value(from right as nums is sorted i.e, k at right) is taken and it is not able to sum up to the target\n",
    "5. if sum s is less than 0(target) means the shorter value(from left as nums is sorted i.e, j at left) is taken and it is not able to sum up to the target\n",
    "6. skipping if we found the duplicate of j and we dont need to check the duplicate of k cause it will automatically skip the duplicate by the adjustment of i and j\n",
    "\n",
    "\n",
    "Let's save and upload our work before continuing.\n",
    "\n"
   ]
  },
  {
   "cell_type": "code",
   "execution_count": 31,
   "id": "d7ef8b2c",
   "metadata": {},
   "outputs": [
    {
     "data": {
      "application/javascript": [
       "window.require && require([\"base/js/namespace\"],function(Jupyter){Jupyter.notebook.save_checkpoint()})"
      ],
      "text/plain": [
       "<IPython.core.display.Javascript object>"
      ]
     },
     "metadata": {},
     "output_type": "display_data"
    },
    {
     "name": "stdout",
     "output_type": "stream",
     "text": [
      "[jovian] Updating notebook \"kundeshwar15000/sum-of-three\" on https://jovian.com\u001b[0m\n",
      "[jovian] Committed successfully! https://jovian.com/kundeshwar15000/sum-of-three\u001b[0m\n"
     ]
    },
    {
     "data": {
      "text/plain": [
       "'https://jovian.com/kundeshwar15000/sum-of-three'"
      ]
     },
     "execution_count": 31,
     "metadata": {},
     "output_type": "execute_result"
    }
   ],
   "source": [
    "jovian.commit()"
   ]
  },
  {
   "cell_type": "markdown",
   "id": "e73d8a29",
   "metadata": {},
   "source": [
    "### 8. Implement the solution and test it using example inputs. Fix bugs, if any."
   ]
  },
  {
   "cell_type": "code",
   "execution_count": 32,
   "id": "93146636",
   "metadata": {},
   "outputs": [],
   "source": [
    "def three_sum(nums): \n",
    "        nums.sort() \n",
    "        l=[]\n",
    "        for i in range(len(nums)): \n",
    "            if i>0 and nums[i-1]==nums[i]: \n",
    "                continue \n",
    "            j=i+1\n",
    "            k=len(nums)-1 \n",
    "            while j<k: \n",
    "                s=nums[i]+nums[j]+nums[k] \n",
    "                if s>0: \n",
    "                    k-=1  \n",
    "                elif s<0: \n",
    "                    j+=1  \n",
    "                else:\n",
    "                    l.append(sorted([nums[i],nums[j],nums[k]])) \n",
    "                    j+=1 \n",
    "                    while nums[j-1]==nums[j] and j<k: \n",
    "                        j+=1   \n",
    "        return l"
   ]
  },
  {
   "cell_type": "code",
   "execution_count": 33,
   "id": "33ebc2d0",
   "metadata": {},
   "outputs": [
    {
     "data": {
      "text/plain": [
       "[[0, 0, 0]]"
      ]
     },
     "execution_count": 33,
     "metadata": {},
     "output_type": "execute_result"
    }
   ],
   "source": [
    "three_sum(test1[\"input\"][\"nums\"])"
   ]
  },
  {
   "cell_type": "code",
   "execution_count": 34,
   "id": "9fb760a3",
   "metadata": {},
   "outputs": [],
   "source": [
    "from jovian.pythondsa import evaluate_test_case"
   ]
  },
  {
   "cell_type": "code",
   "execution_count": 35,
   "id": "f8e8b2e2",
   "metadata": {},
   "outputs": [
    {
     "name": "stdout",
     "output_type": "stream",
     "text": [
      "\n",
      "Input:\n",
      "{'nums': [-9, -8, -6, -5, -5, -4, -3, -3, -2, -1, 0, 1, 2, 3, 4, 5, 5, 6, 10, 10, 12]}\n",
      "\n",
      "Expected Output:\n",
      "[[-9, -3, 12], [-9, -1, 10], [-9, 3, 6], [-9, 4, 5], [-8, -4, 12], [-8, -2, 10], [-8, 2, 6], [-8, 3,...\n",
      "\n",
      "\n",
      "Actual Output:\n",
      "[[-9, -3, 12], [-9, -1, 10], [-9, 3, 6], [-9, 4, 5], [-8, -4, 12], [-8, -2, 10], [-8, 2, 6], [-8, 3,...\n",
      "\n",
      "Execution Time:\n",
      "0.049 ms\n",
      "\n",
      "Test Result:\n",
      "\u001b[92mPASSED\u001b[0m\n",
      "\n",
      "([[-9, -3, 12], [-9, -1, 10], [-9, 3, 6], [-9, 4, 5], [-8, -4, 12], [-8, -2, 10], [-8, 2, 6], [-8, 3, 5], [-6, -4, 10], [-6, 0, 6], [-6, 1, 5], [-6, 2, 4], [-5, -5, 10], [-5, -1, 6], [-5, 0, 5], [-5, 1, 4], [-5, 2, 3], [-4, -2, 6], [-4, -1, 5], [-4, 0, 4], [-4, 1, 3], [-3, -3, 6], [-3, -2, 5], [-3, -1, 4], [-3, 0, 3], [-3, 1, 2], [-2, -1, 3], [-2, 0, 2], [-1, 0, 1]], True, 0.049)\n"
     ]
    }
   ],
   "source": [
    "l = evaluate_test_case(three_sum, test6)\n",
    "print(l)"
   ]
  },
  {
   "cell_type": "code",
   "execution_count": 36,
   "id": "550959fc",
   "metadata": {},
   "outputs": [],
   "source": [
    "from jovian.pythondsa import evaluate_test_cases"
   ]
  },
  {
   "cell_type": "code",
   "execution_count": 37,
   "id": "bb251303",
   "metadata": {},
   "outputs": [
    {
     "name": "stdout",
     "output_type": "stream",
     "text": [
      "\n",
      "\u001b[1mTEST CASE #0\u001b[0m\n",
      "\n",
      "Input:\n",
      "{'nums': [0, 0, 0]}\n",
      "\n",
      "Expected Output:\n",
      "[[0, 0, 0]]\n",
      "\n",
      "\n",
      "Actual Output:\n",
      "[[0, 0, 0]]\n",
      "\n",
      "Execution Time:\n",
      "0.007 ms\n",
      "\n",
      "Test Result:\n",
      "\u001b[92mPASSED\u001b[0m\n",
      "\n",
      "\n",
      "\u001b[1mTEST CASE #1\u001b[0m\n",
      "\n",
      "Input:\n",
      "{'nums': [-4, -1, -1, 0, 1, 2]}\n",
      "\n",
      "Expected Output:\n",
      "[[-1, -1, 2], [-1, 0, 1]]\n",
      "\n",
      "\n",
      "Actual Output:\n",
      "[[-1, -1, 2], [-1, 0, 1]]\n",
      "\n",
      "Execution Time:\n",
      "0.007 ms\n",
      "\n",
      "Test Result:\n",
      "\u001b[92mPASSED\u001b[0m\n",
      "\n",
      "\n",
      "\u001b[1mTEST CASE #2\u001b[0m\n",
      "\n",
      "Input:\n",
      "{'nums': [-4, -2, -1, 0, 0, 1, 3, 3]}\n",
      "\n",
      "Expected Output:\n",
      "[[-4, 1, 3], [-2, -1, 3], [-1, 0, 1]]\n",
      "\n",
      "\n",
      "Actual Output:\n",
      "[[-4, 1, 3], [-2, -1, 3], [-1, 0, 1]]\n",
      "\n",
      "Execution Time:\n",
      "0.009 ms\n",
      "\n",
      "Test Result:\n",
      "\u001b[92mPASSED\u001b[0m\n",
      "\n",
      "\n",
      "\u001b[1mTEST CASE #3\u001b[0m\n",
      "\n",
      "Input:\n",
      "{'nums': [-2, -2, -1, -1, 3, 4, 6]}\n",
      "\n",
      "Expected Output:\n",
      "[[-2, -2, 4], [-2, -1, 3]]\n",
      "\n",
      "\n",
      "Actual Output:\n",
      "[[-2, -2, 4], [-2, -1, 3]]\n",
      "\n",
      "Execution Time:\n",
      "0.005 ms\n",
      "\n",
      "Test Result:\n",
      "\u001b[92mPASSED\u001b[0m\n",
      "\n",
      "\n",
      "\u001b[1mTEST CASE #4\u001b[0m\n",
      "\n",
      "Input:\n",
      "{'nums': [-6, -5, -2, -1, 2, 2, 5, 6, 6]}\n",
      "\n",
      "Expected Output:\n",
      "[[-5, -1, 6]]\n",
      "\n",
      "\n",
      "Actual Output:\n",
      "[[-5, -1, 6]]\n",
      "\n",
      "Execution Time:\n",
      "0.008 ms\n",
      "\n",
      "Test Result:\n",
      "\u001b[92mPASSED\u001b[0m\n",
      "\n",
      "\n",
      "\u001b[1mTEST CASE #5\u001b[0m\n",
      "\n",
      "Input:\n",
      "{'nums': [-9, -8, -6, -5, -5, -4, -3, -3, -2, -1, 0, 1, 2, 3, 4, 5, 5, 6, 10, 10, 12]}\n",
      "\n",
      "Expected Output:\n",
      "[[-9, -3, 12], [-9, -1, 10], [-9, 3, 6], [-9, 4, 5], [-8, -4, 12], [-8, -2, 10], [-8, 2, 6], [-8, 3,...\n",
      "\n",
      "\n",
      "Actual Output:\n",
      "[[-9, -3, 12], [-9, -1, 10], [-9, 3, 6], [-9, 4, 5], [-8, -4, 12], [-8, -2, 10], [-8, 2, 6], [-8, 3,...\n",
      "\n",
      "Execution Time:\n",
      "0.037 ms\n",
      "\n",
      "Test Result:\n",
      "\u001b[92mPASSED\u001b[0m\n",
      "\n",
      "\n",
      "\u001b[1mSUMMARY\u001b[0m\n",
      "\n",
      "TOTAL: 6, \u001b[92mPASSED\u001b[0m: 6, \u001b[91mFAILED\u001b[0m: 0\n"
     ]
    },
    {
     "data": {
      "text/plain": [
       "[([[0, 0, 0]], True, 0.007),\n",
       " ([[-1, -1, 2], [-1, 0, 1]], True, 0.007),\n",
       " ([[-4, 1, 3], [-2, -1, 3], [-1, 0, 1]], True, 0.009),\n",
       " ([[-2, -2, 4], [-2, -1, 3]], True, 0.005),\n",
       " ([[-5, -1, 6]], True, 0.008),\n",
       " ([[-9, -3, 12],\n",
       "   [-9, -1, 10],\n",
       "   [-9, 3, 6],\n",
       "   [-9, 4, 5],\n",
       "   [-8, -4, 12],\n",
       "   [-8, -2, 10],\n",
       "   [-8, 2, 6],\n",
       "   [-8, 3, 5],\n",
       "   [-6, -4, 10],\n",
       "   [-6, 0, 6],\n",
       "   [-6, 1, 5],\n",
       "   [-6, 2, 4],\n",
       "   [-5, -5, 10],\n",
       "   [-5, -1, 6],\n",
       "   [-5, 0, 5],\n",
       "   [-5, 1, 4],\n",
       "   [-5, 2, 3],\n",
       "   [-4, -2, 6],\n",
       "   [-4, -1, 5],\n",
       "   [-4, 0, 4],\n",
       "   [-4, 1, 3],\n",
       "   [-3, -3, 6],\n",
       "   [-3, -2, 5],\n",
       "   [-3, -1, 4],\n",
       "   [-3, 0, 3],\n",
       "   [-3, 1, 2],\n",
       "   [-2, -1, 3],\n",
       "   [-2, 0, 2],\n",
       "   [-1, 0, 1]],\n",
       "  True,\n",
       "  0.037)]"
      ]
     },
     "execution_count": 37,
     "metadata": {},
     "output_type": "execute_result"
    }
   ],
   "source": [
    "evaluate_test_cases(three_sum, tests)"
   ]
  },
  {
   "cell_type": "markdown",
   "id": "f3c11072",
   "metadata": {},
   "source": [
    "### 9. Analyze the algorithm's complexity and identify inefficiencies, if any."
   ]
  },
  {
   "cell_type": "code",
   "execution_count": null,
   "id": "6f5378dc",
   "metadata": {},
   "outputs": [],
   "source": []
  },
  {
   "cell_type": "code",
   "execution_count": 38,
   "id": "9ff313a6",
   "metadata": {},
   "outputs": [],
   "source": [
    "Three_sum_time_complexity = 'O(n*logn)'"
   ]
  },
  {
   "cell_type": "code",
   "execution_count": 39,
   "id": "e3c2a7a4",
   "metadata": {},
   "outputs": [],
   "source": [
    "Three_sum_space_complexity = 'O(1)'"
   ]
  },
  {
   "cell_type": "markdown",
   "id": "917c1bb2",
   "metadata": {},
   "source": [
    "If you found the problem on an external platform, you can make a submission to test your solution.\n",
    "\n",
    "Share your approach and start a discussion on the Jovian forum: https://jovian.ai/forum/c/data-structures-and-algorithms-in-python/78"
   ]
  },
  {
   "cell_type": "code",
   "execution_count": null,
   "id": "055022b4",
   "metadata": {},
   "outputs": [
    {
     "data": {
      "application/javascript": [
       "window.require && require([\"base/js/namespace\"],function(Jupyter){Jupyter.notebook.save_checkpoint()})"
      ],
      "text/plain": [
       "<IPython.core.display.Javascript object>"
      ]
     },
     "metadata": {},
     "output_type": "display_data"
    }
   ],
   "source": [
    "jovian.commit()"
   ]
  },
  {
   "cell_type": "code",
   "execution_count": null,
   "id": "e6f536dc",
   "metadata": {},
   "outputs": [],
   "source": []
  },
  {
   "cell_type": "code",
   "execution_count": null,
   "id": "39cf0beb",
   "metadata": {},
   "outputs": [],
   "source": []
  },
  {
   "cell_type": "code",
   "execution_count": null,
   "id": "b14d44ba",
   "metadata": {},
   "outputs": [],
   "source": []
  }
 ],
 "metadata": {
  "kernelspec": {
   "display_name": "Python 3 (ipykernel)",
   "language": "python",
   "name": "python3"
  },
  "language_info": {
   "codemirror_mode": {
    "name": "ipython",
    "version": 3
   },
   "file_extension": ".py",
   "mimetype": "text/x-python",
   "name": "python",
   "nbconvert_exporter": "python",
   "pygments_lexer": "ipython3",
   "version": "3.9.7"
  }
 },
 "nbformat": 4,
 "nbformat_minor": 5
}
